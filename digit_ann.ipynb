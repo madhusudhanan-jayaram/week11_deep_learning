{
 "cells": [
  {
   "cell_type": "code",
   "execution_count": 1,
   "id": "14b180b9",
   "metadata": {},
   "outputs": [],
   "source": [
    "# Basic python libraries\n",
    "import numpy as np\n",
    "import pandas as pd"
   ]
  },
  {
   "cell_type": "code",
   "execution_count": 2,
   "id": "34602209",
   "metadata": {},
   "outputs": [],
   "source": [
    "# Visualization libraries\n",
    "import matplotlib.pyplot as plt\n",
    "import seaborn as sns\n",
    "import pydot as pydot"
   ]
  },
  {
   "cell_type": "code",
   "execution_count": 3,
   "id": "32f00af6",
   "metadata": {},
   "outputs": [],
   "source": [
    "# Evaulation libraries\n",
    "from sklearn.metrics import classification_report, confusion_matrix\n",
    "from sklearn.model_selection import train_test_split    "
   ]
  },
  {
   "cell_type": "code",
   "execution_count": 4,
   "id": "bc026844",
   "metadata": {},
   "outputs": [
    {
     "name": "stdout",
     "output_type": "stream",
     "text": [
      "WARNING:tensorflow:From c:\\Users\\mukil\\anaconda3\\envs\\aiml\\lib\\site-packages\\keras\\src\\losses.py:2976: The name tf.losses.sparse_softmax_cross_entropy is deprecated. Please use tf.compat.v1.losses.sparse_softmax_cross_entropy instead.\n",
      "\n"
     ]
    }
   ],
   "source": [
    "# Deep learning libraries\n",
    "import tensorflow as tf\n",
    "import keras as keras\n",
    "from keras import layers\n",
    "from keras.models import Sequential\n",
    "from keras.layers import Dense, Dropout, Activation\n",
    "from keras.utils import plot_model, to_categorical\n",
    "from keras.datasets import mnist\n"
   ]
  },
  {
   "cell_type": "code",
   "execution_count": 5,
   "id": "206c88f6",
   "metadata": {},
   "outputs": [
    {
     "name": "stdout",
     "output_type": "stream",
     "text": [
      "TensorFlow version: 2.15.0\n",
      "Keras version: 2.15.0\n"
     ]
    }
   ],
   "source": [
    "print(f\"TensorFlow version: {tf.__version__}\")\n",
    "print(f\"Keras version: {keras.__version__}\")"
   ]
  },
  {
   "cell_type": "code",
   "execution_count": 6,
   "id": "53fc3e83",
   "metadata": {},
   "outputs": [],
   "source": [
    "# Load the MNIST dataset(Modified National Institute of Standards and Technology database)\n",
    "(X_train_digit, y_train_digit), (X_test_digit, y_test_digit) = mnist.load_data()"
   ]
  },
  {
   "cell_type": "code",
   "execution_count": 7,
   "id": "3ae36c37",
   "metadata": {},
   "outputs": [
    {
     "data": {
      "text/plain": [
       "array([[[0, 0, 0, ..., 0, 0, 0],\n",
       "        [0, 0, 0, ..., 0, 0, 0],\n",
       "        [0, 0, 0, ..., 0, 0, 0],\n",
       "        ...,\n",
       "        [0, 0, 0, ..., 0, 0, 0],\n",
       "        [0, 0, 0, ..., 0, 0, 0],\n",
       "        [0, 0, 0, ..., 0, 0, 0]],\n",
       "\n",
       "       [[0, 0, 0, ..., 0, 0, 0],\n",
       "        [0, 0, 0, ..., 0, 0, 0],\n",
       "        [0, 0, 0, ..., 0, 0, 0],\n",
       "        ...,\n",
       "        [0, 0, 0, ..., 0, 0, 0],\n",
       "        [0, 0, 0, ..., 0, 0, 0],\n",
       "        [0, 0, 0, ..., 0, 0, 0]],\n",
       "\n",
       "       [[0, 0, 0, ..., 0, 0, 0],\n",
       "        [0, 0, 0, ..., 0, 0, 0],\n",
       "        [0, 0, 0, ..., 0, 0, 0],\n",
       "        ...,\n",
       "        [0, 0, 0, ..., 0, 0, 0],\n",
       "        [0, 0, 0, ..., 0, 0, 0],\n",
       "        [0, 0, 0, ..., 0, 0, 0]],\n",
       "\n",
       "       ...,\n",
       "\n",
       "       [[0, 0, 0, ..., 0, 0, 0],\n",
       "        [0, 0, 0, ..., 0, 0, 0],\n",
       "        [0, 0, 0, ..., 0, 0, 0],\n",
       "        ...,\n",
       "        [0, 0, 0, ..., 0, 0, 0],\n",
       "        [0, 0, 0, ..., 0, 0, 0],\n",
       "        [0, 0, 0, ..., 0, 0, 0]],\n",
       "\n",
       "       [[0, 0, 0, ..., 0, 0, 0],\n",
       "        [0, 0, 0, ..., 0, 0, 0],\n",
       "        [0, 0, 0, ..., 0, 0, 0],\n",
       "        ...,\n",
       "        [0, 0, 0, ..., 0, 0, 0],\n",
       "        [0, 0, 0, ..., 0, 0, 0],\n",
       "        [0, 0, 0, ..., 0, 0, 0]],\n",
       "\n",
       "       [[0, 0, 0, ..., 0, 0, 0],\n",
       "        [0, 0, 0, ..., 0, 0, 0],\n",
       "        [0, 0, 0, ..., 0, 0, 0],\n",
       "        ...,\n",
       "        [0, 0, 0, ..., 0, 0, 0],\n",
       "        [0, 0, 0, ..., 0, 0, 0],\n",
       "        [0, 0, 0, ..., 0, 0, 0]]], dtype=uint8)"
      ]
     },
     "execution_count": 7,
     "metadata": {},
     "output_type": "execute_result"
    }
   ],
   "source": [
    "X_train_digit"
   ]
  },
  {
   "cell_type": "code",
   "execution_count": 8,
   "id": "593a9e4b",
   "metadata": {},
   "outputs": [
    {
     "data": {
      "image/png": "[encoded data removed]",
      "text/plain": [
       "<Figure size 1000x1000 with 15 Axes>"
      ]
     },
     "metadata": {},
     "output_type": "display_data"
    }
   ],
   "source": [
    "# Names of numbers in the data set in order\n",
    "number_names = ['Zero', 'One', 'Two', 'Three', 'Four', 'Five', 'Six', 'Seven', 'Eight', 'Nine']\n",
    "\n",
    "#Visualizing the digits\n",
    "plt.figure(figsize=(10, 10)) # Set the figure size\n",
    "for i in range(15):\n",
    "    plt.subplot(5, 5, i+1) # 5 rows and 5 columns\n",
    "    plt.xticks([]) # Remove x-axis ticks (horizontal)\n",
    "    plt.yticks([]) # Remove y-axis ticks (vertical)\n",
    "    plt.imshow(X_train_digit[i], cmap='YlGn') # Show the digit image in yellow\n",
    "    #plt.title(number_names[y_train_digit[i]])\n",
    "    plt.xlabel(f'Label: {y_train_digit[i]}')\n",
    "    #plt.ylabel('Test')\n",
    "plt.show()"
   ]
  },
  {
   "cell_type": "code",
   "execution_count": 9,
   "id": "3c98bb31",
   "metadata": {},
   "outputs": [
    {
     "data": {
      "text/plain": [
       "((60000, 28, 28), (60000,), (10000, 28, 28), (10000,))"
      ]
     },
     "execution_count": 9,
     "metadata": {},
     "output_type": "execute_result"
    }
   ],
   "source": [
    "# Explain what is X_train_digit\n",
    "#70,000 total images (60K train + 10K test)\n",
    "#Perfect match: Same number of images and labels\n",
    "#Standard size: All images are exactly 28×28 pixels\n",
    "#Ready for ML: Data is already properly formatted\n",
    "# ANN expects 2D array as input, so we need to reshape the data\n",
    "#Training Data:\n",
    "'''\n",
    "┌─────────────────┐    ┌───────────┐\n",
    "│ X_train_digit   │    │y_train_   │\n",
    "│ 60,000 images   │ ←→ │digit      │\n",
    "│ each 28×28      │    │60,000     │\n",
    "│ pixels          │    │labels     │\n",
    "└─────────────────┘    │(0,1,2...9)│\n",
    "                       └───────────┘\n",
    "\n",
    "Test Data:\n",
    "┌─────────────────┐    ┌───────────┐\n",
    "│ X_test_digit    │    │y_test_    │\n",
    "│ 10,000 images   │ ←→ │digit      │\n",
    "│ each 28×28      │    │10,000     │\n",
    "│ pixels          │    │labels     │\n",
    "└─────────────────┘    └───────────┘ '''\n",
    "X_train_digit.shape, y_train_digit.shape, X_test_digit.shape, y_test_digit.shape "
   ]
  },
  {
   "cell_type": "code",
   "execution_count": 10,
   "id": "57c3192c",
   "metadata": {},
   "outputs": [],
   "source": [
    "X_train_digit = X_train_digit.reshape((60000, 28 * 28))\n",
    "X_test_digit = X_test_digit.reshape((10000, 28 * 28))"
   ]
  },
  {
   "cell_type": "code",
   "execution_count": 11,
   "id": "033e01e6",
   "metadata": {},
   "outputs": [
    {
     "data": {
      "text/plain": [
       "(60000, 784)"
      ]
     },
     "execution_count": 11,
     "metadata": {},
     "output_type": "execute_result"
    }
   ],
   "source": [
    "X_train_digit.shape #Input (Preprocess) 3D to 2D for ANN   "
   ]
  },
  {
   "cell_type": "code",
   "execution_count": 12,
   "id": "2d54203c",
   "metadata": {},
   "outputs": [
    {
     "data": {
      "text/plain": [
       "(60000,)"
      ]
     },
     "execution_count": 12,
     "metadata": {},
     "output_type": "execute_result"
    }
   ],
   "source": [
    "y_train_digit.shape # 1D array of labels"
   ]
  },
  {
   "cell_type": "code",
   "execution_count": 13,
   "id": "cbd2cbbc",
   "metadata": {},
   "outputs": [
    {
     "data": {
      "text/plain": [
       "array([1., 0., 0., 0., 0., 0., 0., 0., 0., 0.], dtype=float32)"
      ]
     },
     "execution_count": 13,
     "metadata": {},
     "output_type": "execute_result"
    }
   ],
   "source": [
    "#Convert labels to one-hot encoding\n",
    "y_train_digit = to_categorical(y_train_digit, num_classes=10)\n",
    "y_test_digit = to_categorical(y_test_digit, num_classes=10)\n",
    "y_train_digit[1]"
   ]
  },
  {
   "cell_type": "code",
   "execution_count": 14,
   "id": "f45e83ef",
   "metadata": {},
   "outputs": [
    {
     "name": "stdout",
     "output_type": "stream",
     "text": [
      "\n",
      "🎯 SEQUENTIAL MODEL FLOW:\n",
      "\n",
      "┌─────────────┐    ┌─────────────┐    ┌─────────────┐    ┌─────────────┐\n",
      "│  INPUT      │    │  HIDDEN     │    │  HIDDEN     │    │  OUTPUT     │\n",
      "│   LAYER     │───▶│   LAYER 1   │───▶│   LAYER 2   │───▶│   LAYER     │\n",
      "│             │    │             │    │             │    │             │\n",
      "│ 784 neurons │    │ 128 neurons │    │ 64 neurons  │    │ 10 neurons  │\n",
      "│ (pixels)    │    │ (ReLU)      │    │ (ReLU)      │    │ (Sigmoid)   │\n",
      "└─────────────┘    └─────────────┘    └─────────────┘    └─────────────┘\n",
      "      ↑                   ↑                   ↑                   ↑\n",
      "  28×28 image        Pattern          Higher-level      Digit\n",
      "  flattened to      Detection         Features        Prediction\n",
      "   784 values                                         (0,1,2...9)\n",
      "\n",
      "WARNING:tensorflow:From c:\\Users\\mukil\\anaconda3\\envs\\aiml\\lib\\site-packages\\keras\\src\\backend.py:873: The name tf.get_default_graph is deprecated. Please use tf.compat.v1.get_default_graph instead.\n",
      "\n",
      "\n",
      "✅ Model created successfully!\n",
      "🎯 Architecture: 784 → 128 → 64 → 10\n",
      "🔄 Activations: ReLU → ReLU → Sigmoid\n"
     ]
    }
   ],
   "source": [
    "#creating base neural networks\n",
    "# In machin learning no brain activity. in deep learning, there is a brain activity\n",
    "# This model creation is a sequential process\n",
    "# Visual diagram\n",
    "print(\"\\n🎯 SEQUENTIAL MODEL FLOW:\")\n",
    "print(\"\"\"\n",
    "┌─────────────┐    ┌─────────────┐    ┌─────────────┐    ┌─────────────┐\n",
    "│  INPUT      │    │  HIDDEN     │    │  HIDDEN     │    │  OUTPUT     │\n",
    "│   LAYER     │───▶│   LAYER 1   │───▶│   LAYER 2   │───▶│   LAYER     │\n",
    "│             │    │             │    │             │    │             │\n",
    "│ 784 neurons │    │ 128 neurons │    │ 64 neurons  │    │ 10 neurons  │\n",
    "│ (pixels)    │    │ (ReLU)      │    │ (ReLU)      │    │ (Sigmoid)   │\n",
    "└─────────────┘    └─────────────┘    └─────────────┘    └─────────────┘\n",
    "      ↑                   ↑                   ↑                   ↑\n",
    "  28×28 image        Pattern          Higher-level      Digit\n",
    "  flattened to      Detection         Features        Prediction\n",
    "   784 values                                         (0,1,2...9)\n",
    "\"\"\")\n",
    "#ReLU(-5) = 0    # Negative → Zero\n",
    "#ReLU(0)  = 0    # Zero → Zero\n",
    "model = keras.Sequential([\n",
    "    layers.Dense(256, activation='relu', input_shape=(784,)),\n",
    "    layers.Dense(64, activation='relu'),\n",
    "    layers.Dense(64, activation='relu'),\n",
    "    layers.Dense(10, activation='sigmoid'),\n",
    "])\n",
    "\n",
    "\n",
    "print(\"\\n✅ Model created successfully!\")\n",
    "print(\"🎯 Architecture: 784 → 128 → 64 → 10\")\n",
    "print(\"🔄 Activations: ReLU → ReLU → Sigmoid\")\n"
   ]
  },
  {
   "cell_type": "code",
   "execution_count": 15,
   "id": "3bc9a719",
   "metadata": {},
   "outputs": [
    {
     "name": "stdout",
     "output_type": "stream",
     "text": [
      "Model: \"sequential\"\n",
      "_________________________________________________________________\n",
      " Layer (type)                Output Shape              Param #   \n",
      "=================================================================\n",
      " dense (Dense)               (None, 256)               200960    \n",
      "                                                                 \n",
      " dense_1 (Dense)             (None, 64)                16448     \n",
      "                                                                 \n",
      " dense_2 (Dense)             (None, 64)                4160      \n",
      "                                                                 \n",
      " dense_3 (Dense)             (None, 10)                650       \n",
      "                                                                 \n",
      "=================================================================\n",
      "Total params: 222218 (868.04 KB)\n",
      "Trainable params: 222218 (868.04 KB)\n",
      "Non-trainable params: 0 (0.00 Byte)\n",
      "_________________________________________________________________\n",
      "None\n"
     ]
    }
   ],
   "source": [
    "#param_number = output_channel_number * (input_channel_number +1)\n",
    "print(model.summary())"
   ]
  },
  {
   "cell_type": "code",
   "execution_count": 16,
   "id": "61b52d8d",
   "metadata": {},
   "outputs": [
    {
     "name": "stdout",
     "output_type": "stream",
     "text": [
      "WARNING:tensorflow:From c:\\Users\\mukil\\anaconda3\\envs\\aiml\\lib\\site-packages\\keras\\src\\optimizers\\__init__.py:309: The name tf.train.Optimizer is deprecated. Please use tf.compat.v1.train.Optimizer instead.\n",
      "\n",
      "🚗 LEARNING TO DRIVE ANALOGY:\n",
      "========================================\n",
      "LOSS = 'How many mistakes did I make?'\n",
      "  - Hit a cone = High loss ❌\n",
      "  - Perfect parking = Low loss ✅\n",
      "\n",
      "OPTIMIZER = 'My driving instructor'\n",
      "  - 'Turn the wheel more gently next time'\n",
      "  - 'Brake earlier when approaching a stop'\n",
      "\n",
      "METRICS = 'My overall driving score'\n",
      "  - 'You passed 90% of your driving tests!'\n",
      "  - Easy to understand progress\n"
     ]
    }
   ],
   "source": [
    "#Compiling the model\n",
    "model.compile(loss='categorical_crossentropy', # Corrected loss function\n",
    "              optimizer='adam', # Adam optimizer is widely used and effective\n",
    "              metrics=['accuracy']) # Accuracy metric for evaluation\n",
    "print(\"🚗 LEARNING TO DRIVE ANALOGY:\")\n",
    "print(\"=\" * 40)\n",
    "print(\"LOSS = 'How many mistakes did I make?'\")\n",
    "print(\"  - Hit a cone = High loss ❌\")\n",
    "print(\"  - Perfect parking = Low loss ✅\")\n",
    "print()\n",
    "print(\"OPTIMIZER = 'My driving instructor'\")\n",
    "print(\"  - 'Turn the wheel more gently next time'\")\n",
    "print(\"  - 'Brake earlier when approaching a stop'\")\n",
    "print()\n",
    "print(\"METRICS = 'My overall driving score'\")\n",
    "print(\"  - 'You passed 90% of your driving tests!'\")\n",
    "print(\"  - Easy to understand progress\")"
   ]
  },
  {
   "cell_type": "code",
   "execution_count": 17,
   "id": "50279b45",
   "metadata": {},
   "outputs": [
    {
     "name": "stdout",
     "output_type": "stream",
     "text": [
      "Epoch 1/10\n",
      "WARNING:tensorflow:From c:\\Users\\mukil\\anaconda3\\envs\\aiml\\lib\\site-packages\\keras\\src\\utils\\tf_utils.py:492: The name tf.ragged.RaggedTensorValue is deprecated. Please use tf.compat.v1.ragged.RaggedTensorValue instead.\n",
      "\n",
      "WARNING:tensorflow:From c:\\Users\\mukil\\anaconda3\\envs\\aiml\\lib\\site-packages\\keras\\src\\engine\\base_layer_utils.py:384: The name tf.executing_eagerly_outside_functions is deprecated. Please use tf.compat.v1.executing_eagerly_outside_functions instead.\n",
      "\n",
      "600/600 [==============================] - 9s 11ms/step - loss: 1.2769 - accuracy: 0.8537 - val_loss: 0.3311 - val_accuracy: 0.9223\n",
      "Epoch 2/10\n",
      "600/600 [==============================] - 6s 11ms/step - loss: 0.2490 - accuracy: 0.9359 - val_loss: 0.2429 - val_accuracy: 0.9363\n",
      "Epoch 3/10\n",
      "600/600 [==============================] - 5s 8ms/step - loss: 0.1681 - accuracy: 0.9534 - val_loss: 0.2351 - val_accuracy: 0.9380\n",
      "Epoch 4/10\n",
      "600/600 [==============================] - 6s 9ms/step - loss: 0.1328 - accuracy: 0.9621 - val_loss: 0.2046 - val_accuracy: 0.9506\n",
      "Epoch 5/10\n",
      "600/600 [==============================] - 5s 8ms/step - loss: 0.1143 - accuracy: 0.9669 - val_loss: 0.1691 - val_accuracy: 0.9592\n",
      "Epoch 6/10\n",
      "600/600 [==============================] - 5s 8ms/step - loss: 0.1066 - accuracy: 0.9707 - val_loss: 0.1775 - val_accuracy: 0.9598\n",
      "Epoch 7/10\n",
      "600/600 [==============================] - 5s 8ms/step - loss: 0.0938 - accuracy: 0.9738 - val_loss: 0.1880 - val_accuracy: 0.9550\n",
      "Epoch 8/10\n",
      "600/600 [==============================] - 5s 8ms/step - loss: 0.0824 - accuracy: 0.9761 - val_loss: 0.1482 - val_accuracy: 0.9656\n",
      "Epoch 9/10\n",
      "600/600 [==============================] - 5s 8ms/step - loss: 0.0868 - accuracy: 0.9757 - val_loss: 0.1474 - val_accuracy: 0.9647\n",
      "Epoch 10/10\n",
      "600/600 [==============================] - 5s 8ms/step - loss: 0.0756 - accuracy: 0.9783 - val_loss: 0.1392 - val_accuracy: 0.9667\n"
     ]
    }
   ],
   "source": [
    "history = model.fit(X_train_digit, y_train_digit,\n",
    "                    epochs=10,\n",
    "                    batch_size=100,\n",
    "                    validation_data=(X_test_digit, y_test_digit))"
   ]
  },
  {
   "cell_type": "code",
   "execution_count": 20,
   "id": "215c885b",
   "metadata": {},
   "outputs": [
    {
     "name": "stdout",
     "output_type": "stream",
     "text": [
      "313/313 [==============================] - 2s 6ms/step\n"
     ]
    }
   ],
   "source": [
    "#Predicting the test set results\n",
    "y_predict = model.predict(X_test_digit)"
   ]
  },
  {
   "cell_type": "code",
   "execution_count": null,
   "id": "211185e3",
   "metadata": {},
   "outputs": [],
   "source": [
    "y_predicts = np.argmax(y_predict, axis=1) # Here we get the index of the maximum value in the encoded vector\n",
    "y_digit_evaluation = np.argmax(y_test_digit, axis=1)"
   ]
  },
  {
   "cell_type": "code",
   "execution_count": null,
   "id": "d084c55c",
   "metadata": {},
   "outputs": [
    {
     "data": {
      "text/plain": [
       "array([7, 1, 1, ..., 4, 5, 0], dtype=int64)"
      ]
     },
     "execution_count": 24,
     "metadata": {},
     "output_type": "execute_result"
    }
   ],
   "source": []
  }
 ],
 "metadata": {
  "kernelspec": {
   "display_name": "aiml",
   "language": "python",
   "name": "python3"
  },
  "language_info": {
   "codemirror_mode": {
    "name": "ipython",
    "version": 3
   },
   "file_extension": ".py",
   "mimetype": "text/x-python",
   "name": "python",
   "nbconvert_exporter": "python",
   "pygments_lexer": "ipython3",
   "version": "3.10.18"
  }
 },
 "nbformat": 4,
 "nbformat_minor": 5
}

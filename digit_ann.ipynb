{
 "cells": [
  {
   "cell_type": "code",
   "execution_count": 3,
   "id": "14b180b9",
   "metadata": {},
   "outputs": [],
   "source": [
    "# Basic python libraries\n",
    "import numpy as np\n",
    "import pandas as pd"
   ]
  },
  {
   "cell_type": "code",
   "execution_count": 4,
   "id": "34602209",
   "metadata": {},
   "outputs": [],
   "source": [
    "# Visualization libraries\n",
    "import matplotlib.pyplot as plt\n",
    "import seaborn as sns\n",
    "import pydot as pydot"
   ]
  },
  {
   "cell_type": "code",
   "execution_count": 5,
   "id": "32f00af6",
   "metadata": {},
   "outputs": [],
   "source": [
    "# Evaulation libraries\n",
    "from sklearn.metrics import classification_report, confusion_matrix\n",
    "from sklearn.model_selection import train_test_split    "
   ]
  },
  {
   "cell_type": "code",
   "execution_count": 6,
   "id": "bc026844",
   "metadata": {},
   "outputs": [
    {
     "name": "stdout",
     "output_type": "stream",
     "text": [
      "WARNING:tensorflow:From c:\\Users\\mukil\\anaconda3\\envs\\aiml\\lib\\site-packages\\keras\\src\\losses.py:2976: The name tf.losses.sparse_softmax_cross_entropy is deprecated. Please use tf.compat.v1.losses.sparse_softmax_cross_entropy instead.\n",
      "\n"
     ]
    }
   ],
   "source": [
    "# Deep learning libraries\n",
    "import tensorflow as tf\n",
    "import keras as keras\n",
    "from keras import layers\n",
    "from keras.models import Sequential\n",
    "from keras.layers import Dense, Dropout, Activation\n",
    "from keras.utils import plot_model, to_categorical\n",
    "from keras.datasets import mnist\n"
   ]
  },
  {
   "cell_type": "code",
   "execution_count": 7,
   "id": "206c88f6",
   "metadata": {},
   "outputs": [
    {
     "name": "stdout",
     "output_type": "stream",
     "text": [
      "TensorFlow version: 2.15.0\n",
      "Keras version: 2.15.0\n"
     ]
    }
   ],
   "source": [
    "print(f\"TensorFlow version: {tf.__version__}\")\n",
    "print(f\"Keras version: {keras.__version__}\")"
   ]
  },
  {
   "cell_type": "code",
   "execution_count": 8,
   "id": "53fc3e83",
   "metadata": {},
   "outputs": [],
   "source": [
    "# Load the MNIST dataset(Modified National Institute of Standards and Technology database)\n",
    "(X_train_digit, y_train_digit), (X_test_digit, y_test_digit) = mnist.load_data()"
   ]
  },
  {
   "cell_type": "code",
   "execution_count": 9,
   "id": "3ae36c37",
   "metadata": {},
   "outputs": [
    {
     "data": {
      "text/plain": [
       "array([[[0, 0, 0, ..., 0, 0, 0],\n",
       "        [0, 0, 0, ..., 0, 0, 0],\n",
       "        [0, 0, 0, ..., 0, 0, 0],\n",
       "        ...,\n",
       "        [0, 0, 0, ..., 0, 0, 0],\n",
       "        [0, 0, 0, ..., 0, 0, 0],\n",
       "        [0, 0, 0, ..., 0, 0, 0]],\n",
       "\n",
       "       [[0, 0, 0, ..., 0, 0, 0],\n",
       "        [0, 0, 0, ..., 0, 0, 0],\n",
       "        [0, 0, 0, ..., 0, 0, 0],\n",
       "        ...,\n",
       "        [0, 0, 0, ..., 0, 0, 0],\n",
       "        [0, 0, 0, ..., 0, 0, 0],\n",
       "        [0, 0, 0, ..., 0, 0, 0]],\n",
       "\n",
       "       [[0, 0, 0, ..., 0, 0, 0],\n",
       "        [0, 0, 0, ..., 0, 0, 0],\n",
       "        [0, 0, 0, ..., 0, 0, 0],\n",
       "        ...,\n",
       "        [0, 0, 0, ..., 0, 0, 0],\n",
       "        [0, 0, 0, ..., 0, 0, 0],\n",
       "        [0, 0, 0, ..., 0, 0, 0]],\n",
       "\n",
       "       ...,\n",
       "\n",
       "       [[0, 0, 0, ..., 0, 0, 0],\n",
       "        [0, 0, 0, ..., 0, 0, 0],\n",
       "        [0, 0, 0, ..., 0, 0, 0],\n",
       "        ...,\n",
       "        [0, 0, 0, ..., 0, 0, 0],\n",
       "        [0, 0, 0, ..., 0, 0, 0],\n",
       "        [0, 0, 0, ..., 0, 0, 0]],\n",
       "\n",
       "       [[0, 0, 0, ..., 0, 0, 0],\n",
       "        [0, 0, 0, ..., 0, 0, 0],\n",
       "        [0, 0, 0, ..., 0, 0, 0],\n",
       "        ...,\n",
       "        [0, 0, 0, ..., 0, 0, 0],\n",
       "        [0, 0, 0, ..., 0, 0, 0],\n",
       "        [0, 0, 0, ..., 0, 0, 0]],\n",
       "\n",
       "       [[0, 0, 0, ..., 0, 0, 0],\n",
       "        [0, 0, 0, ..., 0, 0, 0],\n",
       "        [0, 0, 0, ..., 0, 0, 0],\n",
       "        ...,\n",
       "        [0, 0, 0, ..., 0, 0, 0],\n",
       "        [0, 0, 0, ..., 0, 0, 0],\n",
       "        [0, 0, 0, ..., 0, 0, 0]]], dtype=uint8)"
      ]
     },
     "execution_count": 9,
     "metadata": {},
     "output_type": "execute_result"
    }
   ],
   "source": [
    "X_train_digit"
   ]
  },
  {
   "cell_type": "code",
   "execution_count": 10,
   "id": "593a9e4b",
   "metadata": {},
   "outputs": [
    {
     "data": {
      "image/png": "[encoded data removed]",
      "text/plain": [
       "<Figure size 1000x1000 with 15 Axes>"
      ]
     },
     "metadata": {},
     "output_type": "display_data"
    }
   ],
   "source": [
    "# Names of numbers in the data set in order\n",
    "number_names = ['Zero', 'One', 'Two', 'Three', 'Four', 'Five', 'Six', 'Seven', 'Eight', 'Nine']\n",
    "\n",
    "#Visualizing the digits\n",
    "plt.figure(figsize=(10, 10)) # Set the figure size\n",
    "for i in range(15):\n",
    "    plt.subplot(5, 5, i+1) # 5 rows and 5 columns\n",
    "    plt.xticks([]) # Remove x-axis ticks (horizontal)\n",
    "    plt.yticks([]) # Remove y-axis ticks (vertical)\n",
    "    plt.imshow(X_train_digit[i], cmap='YlGn') # Show the digit image in yellow\n",
    "    #plt.title(number_names[y_train_digit[i]])\n",
    "    plt.xlabel(f'Label: {y_train_digit[i]}')\n",
    "    #plt.ylabel('Test')\n",
    "plt.show()"
   ]
  },
  {
   "cell_type": "code",
   "execution_count": 11,
   "id": "3c98bb31",
   "metadata": {},
   "outputs": [
    {
     "data": {
      "text/plain": [
       "((60000, 28, 28), (60000,), (10000, 28, 28), (10000,))"
      ]
     },
     "execution_count": 11,
     "metadata": {},
     "output_type": "execute_result"
    }
   ],
   "source": [
    "# Explain what is X_train_digit\n",
    "#70,000 total images (60K train + 10K test)\n",
    "#Perfect match: Same number of images and labels\n",
    "#Standard size: All images are exactly 28×28 pixels\n",
    "#Ready for ML: Data is already properly formatted\n",
    "# ANN expects 2D array as input, so we need to reshape the data\n",
    "#Training Data:\n",
    "'''\n",
    "┌─────────────────┐    ┌───────────┐\n",
    "│ X_train_digit   │    │y_train_   │\n",
    "│ 60,000 images   │ ←→ │digit      │\n",
    "│ each 28×28      │    │60,000     │\n",
    "│ pixels          │    │labels     │\n",
    "└─────────────────┘    │(0,1,2...9)│\n",
    "                       └───────────┘\n",
    "\n",
    "Test Data:\n",
    "┌─────────────────┐    ┌───────────┐\n",
    "│ X_test_digit    │    │y_test_    │\n",
    "│ 10,000 images   │ ←→ │digit      │\n",
    "│ each 28×28      │    │10,000     │\n",
    "│ pixels          │    │labels     │\n",
    "└─────────────────┘    └───────────┘ '''\n",
    "X_train_digit.shape, y_train_digit.shape, X_test_digit.shape, y_test_digit.shape # 60000 images iruku and ellama 28 * 28 pixesl nu soluthu"
   ]
  },
  {
   "cell_type": "code",
   "execution_count": 12,
   "id": "57c3192c",
   "metadata": {},
   "outputs": [],
   "source": [
    "X_train_digit = X_train_digit.reshape((60000, 28 * 28)) #Convert the 3d images to 2d images\n",
    "X_test_digit = X_test_digit.reshape((10000, 28 * 28))"
   ]
  },
  {
   "cell_type": "code",
   "execution_count": 13,
   "id": "033e01e6",
   "metadata": {},
   "outputs": [
    {
     "data": {
      "text/plain": [
       "(60000, 784)"
      ]
     },
     "execution_count": 13,
     "metadata": {},
     "output_type": "execute_result"
    }
   ],
   "source": [
    "X_train_digit.shape #Input (Preprocess) 3D to 2D for ANN   "
   ]
  },
  {
   "cell_type": "code",
   "execution_count": 14,
   "id": "2d54203c",
   "metadata": {},
   "outputs": [
    {
     "data": {
      "text/plain": [
       "(60000,)"
      ]
     },
     "execution_count": 14,
     "metadata": {},
     "output_type": "execute_result"
    }
   ],
   "source": [
    "y_train_digit.shape # 1D array of labels(output)"
   ]
  },
  {
   "cell_type": "code",
   "execution_count": 15,
   "id": "cbd2cbbc",
   "metadata": {},
   "outputs": [
    {
     "data": {
      "text/plain": [
       "array([1., 0., 0., 0., 0., 0., 0., 0., 0., 0.], dtype=float32)"
      ]
     },
     "execution_count": 15,
     "metadata": {},
     "output_type": "execute_result"
    }
   ],
   "source": [
    "#Convert labels to one-hot encoding\n",
    "y_train_digit = to_categorical(y_train_digit, num_classes=10)\n",
    "y_test_digit = to_categorical(y_test_digit, num_classes=10)\n",
    "y_train_digit[1]"
   ]
  },
  {
   "cell_type": "code",
   "execution_count": 16,
   "id": "f45e83ef",
   "metadata": {},
   "outputs": [
    {
     "name": "stdout",
     "output_type": "stream",
     "text": [
      "\n",
      "🎯 SEQUENTIAL MODEL FLOW:\n",
      "\n",
      "┌─────────────┐    ┌─────────────┐    ┌─────────────┐    ┌─────────────┐\n",
      "│  INPUT      │    │  HIDDEN     │    │  HIDDEN     │    │  OUTPUT     │\n",
      "│   LAYER     │───▶│   LAYER 1   │───▶│   LAYER 2   │───▶│   LAYER     │\n",
      "│             │    │             │    │             │    │             │\n",
      "│ 784 neurons │    │ 128 neurons │    │ 64 neurons  │    │ 10 neurons  │\n",
      "│ (pixels)    │    │ (ReLU)      │    │ (ReLU)      │    │ (Sigmoid)   │\n",
      "└─────────────┘    └─────────────┘    └─────────────┘    └─────────────┘\n",
      "      ↑                   ↑                   ↑                   ↑\n",
      "  28×28 image        Pattern          Higher-level      Digit\n",
      "  flattened to      Detection         Features        Prediction\n",
      "   784 values                                         (0,1,2...9)\n",
      "\n",
      "WARNING:tensorflow:From c:\\Users\\mukil\\anaconda3\\envs\\aiml\\lib\\site-packages\\keras\\src\\backend.py:873: The name tf.get_default_graph is deprecated. Please use tf.compat.v1.get_default_graph instead.\n",
      "\n",
      "\n",
      "✅ Model created successfully!\n",
      "🎯 Architecture: 784 → 128 → 64 → 10\n",
      "🔄 Activations: ReLU → ReLU → Sigmoid\n"
     ]
    }
   ],
   "source": [
    "#creating base neural networks\n",
    "# In machin learning no brain activity. in deep learning, there is a brain activity\n",
    "# This model creation is a sequential process\n",
    "# Visual diagram\n",
    "print(\"\\n🎯 SEQUENTIAL MODEL FLOW:\")\n",
    "print(\"\"\"\n",
    "┌─────────────┐    ┌─────────────┐    ┌─────────────┐    ┌─────────────┐\n",
    "│  INPUT      │    │  HIDDEN     │    │  HIDDEN     │    │  OUTPUT     │\n",
    "│   LAYER     │───▶│   LAYER 1   │───▶│   LAYER 2   │───▶│   LAYER     │\n",
    "│             │    │             │    │             │    │             │\n",
    "│ 784 neurons │    │ 128 neurons │    │ 64 neurons  │    │ 10 neurons  │\n",
    "│ (pixels)    │    │ (ReLU)      │    │ (ReLU)      │    │ (Sigmoid)   │\n",
    "└─────────────┘    └─────────────┘    └─────────────┘    └─────────────┘\n",
    "      ↑                   ↑                   ↑                   ↑\n",
    "  28×28 image        Pattern          Higher-level      Digit\n",
    "  flattened to      Detection         Features        Prediction\n",
    "   784 values                                         (0,1,2...9)\n",
    "\"\"\")\n",
    "#ReLU(-5) = 0    # Negative → Zero\n",
    "#ReLU(0)  = 0    # Zero → Zero\n",
    "model = keras.Sequential([\n",
    "    layers.Dense(256, activation='relu', input_shape=(784,)),\n",
    "    layers.Dense(64, activation='relu'),\n",
    "    layers.Dense(64, activation='relu'),\n",
    "    layers.Dense(10, activation='sigmoid'),\n",
    "])\n",
    "\n",
    "\n",
    "print(\"\\n✅ Model created successfully!\")\n",
    "print(\"🎯 Architecture: 784 → 128 → 64 → 10\")\n",
    "print(\"🔄 Activations: ReLU → ReLU → Sigmoid\")\n"
   ]
  },
  {
   "cell_type": "code",
   "execution_count": 17,
   "id": "3bc9a719",
   "metadata": {},
   "outputs": [
    {
     "name": "stdout",
     "output_type": "stream",
     "text": [
      "Model: \"sequential\"\n",
      "_________________________________________________________________\n",
      " Layer (type)                Output Shape              Param #   \n",
      "=================================================================\n",
      " dense (Dense)               (None, 256)               200960    \n",
      "                                                                 \n",
      " dense_1 (Dense)             (None, 64)                16448     \n",
      "                                                                 \n",
      " dense_2 (Dense)             (None, 64)                4160      \n",
      "                                                                 \n",
      " dense_3 (Dense)             (None, 10)                650       \n",
      "                                                                 \n",
      "=================================================================\n",
      "Total params: 222218 (868.04 KB)\n",
      "Trainable params: 222218 (868.04 KB)\n",
      "Non-trainable params: 0 (0.00 Byte)\n",
      "_________________________________________________________________\n",
      "None\n"
     ]
    }
   ],
   "source": [
    "#param_number = output_channel_number * (input_channel_number +1)\n",
    "print(model.summary())"
   ]
  },
  {
   "cell_type": "code",
   "execution_count": 18,
   "id": "61b52d8d",
   "metadata": {},
   "outputs": [
    {
     "name": "stdout",
     "output_type": "stream",
     "text": [
      "WARNING:tensorflow:From c:\\Users\\mukil\\anaconda3\\envs\\aiml\\lib\\site-packages\\keras\\src\\optimizers\\__init__.py:309: The name tf.train.Optimizer is deprecated. Please use tf.compat.v1.train.Optimizer instead.\n",
      "\n",
      "🚗 LEARNING TO DRIVE ANALOGY:\n",
      "========================================\n",
      "LOSS = 'How many mistakes did I make?'\n",
      "  - Hit a cone = High loss ❌\n",
      "  - Perfect parking = Low loss ✅\n",
      "\n",
      "OPTIMIZER = 'My driving instructor'\n",
      "  - 'Turn the wheel more gently next time'\n",
      "  - 'Brake earlier when approaching a stop'\n",
      "\n",
      "METRICS = 'My overall driving score'\n",
      "  - 'You passed 90% of your driving tests!'\n",
      "  - Easy to understand progress\n"
     ]
    }
   ],
   "source": [
    "#Compiling the model\n",
    "model.compile(loss='categorical_crossentropy', # Corrected loss function\n",
    "              optimizer='adam', # Adam optimizer is widely used and effective\n",
    "              metrics=['accuracy']) # Accuracy metric for evaluation\n",
    "print(\"🚗 LEARNING TO DRIVE ANALOGY:\")\n",
    "print(\"=\" * 40)\n",
    "print(\"LOSS = 'How many mistakes did I make?'\")\n",
    "print(\"  - Hit a cone = High loss ❌\")\n",
    "print(\"  - Perfect parking = Low loss ✅\")\n",
    "print()\n",
    "print(\"OPTIMIZER = 'My driving instructor'\")\n",
    "print(\"  - 'Turn the wheel more gently next time'\")\n",
    "print(\"  - 'Brake earlier when approaching a stop'\")\n",
    "print()\n",
    "print(\"METRICS = 'My overall driving score'\")\n",
    "print(\"  - 'You passed 90% of your driving tests!'\")\n",
    "print(\"  - Easy to understand progress\")"
   ]
  },
  {
   "cell_type": "code",
   "execution_count": 19,
   "id": "50279b45",
   "metadata": {},
   "outputs": [
    {
     "name": "stdout",
     "output_type": "stream",
     "text": [
      "Epoch 1/10\n",
      "WARNING:tensorflow:From c:\\Users\\mukil\\anaconda3\\envs\\aiml\\lib\\site-packages\\keras\\src\\utils\\tf_utils.py:492: The name tf.ragged.RaggedTensorValue is deprecated. Please use tf.compat.v1.ragged.RaggedTensorValue instead.\n",
      "\n",
      "WARNING:tensorflow:From c:\\Users\\mukil\\anaconda3\\envs\\aiml\\lib\\site-packages\\keras\\src\\engine\\base_layer_utils.py:384: The name tf.executing_eagerly_outside_functions is deprecated. Please use tf.compat.v1.executing_eagerly_outside_functions instead.\n",
      "\n",
      "600/600 [==============================] - 10s 12ms/step - loss: 1.2577 - accuracy: 0.8332 - val_loss: 0.4105 - val_accuracy: 0.9000\n",
      "Epoch 2/10\n",
      "600/600 [==============================] - 6s 10ms/step - loss: 0.2913 - accuracy: 0.9241 - val_loss: 0.2396 - val_accuracy: 0.9345\n",
      "Epoch 3/10\n",
      "600/600 [==============================] - 5s 8ms/step - loss: 0.2070 - accuracy: 0.9440 - val_loss: 0.2318 - val_accuracy: 0.9400\n",
      "Epoch 4/10\n",
      "600/600 [==============================] - 11s 18ms/step - loss: 0.1646 - accuracy: 0.9556 - val_loss: 0.2098 - val_accuracy: 0.9466\n",
      "Epoch 5/10\n",
      "600/600 [==============================] - 9s 15ms/step - loss: 0.1444 - accuracy: 0.9600 - val_loss: 0.1844 - val_accuracy: 0.9566\n",
      "Epoch 6/10\n",
      "600/600 [==============================] - 9s 15ms/step - loss: 0.1229 - accuracy: 0.9665 - val_loss: 0.2424 - val_accuracy: 0.9504\n",
      "Epoch 7/10\n",
      "600/600 [==============================] - 6s 10ms/step - loss: 0.1089 - accuracy: 0.9691 - val_loss: 0.1773 - val_accuracy: 0.9596\n",
      "Epoch 8/10\n",
      "600/600 [==============================] - 5s 9ms/step - loss: 0.1035 - accuracy: 0.9713 - val_loss: 0.1709 - val_accuracy: 0.9631\n",
      "Epoch 9/10\n",
      "600/600 [==============================] - 6s 9ms/step - loss: 0.0948 - accuracy: 0.9742 - val_loss: 0.1749 - val_accuracy: 0.9619\n",
      "Epoch 10/10\n",
      "600/600 [==============================] - 6s 11ms/step - loss: 0.0827 - accuracy: 0.9776 - val_loss: 0.1409 - val_accuracy: 0.9666\n"
     ]
    }
   ],
   "source": [
    "history = model.fit(X_train_digit, y_train_digit,\n",
    "                    epochs=10,\n",
    "                    batch_size=100, # Number of samples per gradient update\n",
    "                    validation_data=(X_test_digit, y_test_digit)) #how well the model is generalizing, it's kind of fine tuning the model at the time of building the artifical brain."
   ]
  },
  {
   "cell_type": "code",
   "execution_count": 20,
   "id": "b5f3fae2",
   "metadata": {},
   "outputs": [
    {
     "name": "stdout",
     "output_type": "stream",
     "text": [
      "313/313 [==============================] - 5s 11ms/step - loss: 0.1409 - accuracy: 0.9666\n"
     ]
    }
   ],
   "source": [
    "test_loss_digit, test_acc_digit = model.evaluate(X_test_digit, y_test_digit)"
   ]
  },
  {
   "cell_type": "code",
   "execution_count": 21,
   "id": "0b23c119",
   "metadata": {},
   "outputs": [
    {
     "name": "stdout",
     "output_type": "stream",
     "text": [
      "Digit MNIST Test accuracy: 0.9666\n"
     ]
    }
   ],
   "source": [
    "print('Digit MNIST Test accuracy:', round(test_acc_digit,4))"
   ]
  },
  {
   "cell_type": "code",
   "execution_count": 22,
   "id": "a28bdc93",
   "metadata": {},
   "outputs": [
    {
     "name": "stdout",
     "output_type": "stream",
     "text": [
      "313/313 [==============================] - 6s 14ms/step\n"
     ]
    }
   ],
   "source": [
    "#Predicting the labels-DIGIT\n",
    "y_predict = model.predict(X_test_digit)"
   ]
  },
  {
   "cell_type": "code",
   "execution_count": 23,
   "id": "23df29e1",
   "metadata": {},
   "outputs": [
    {
     "data": {
      "text/plain": [
       "array([1.44577280e-04, 1.05942644e-01, 9.74397302e-01, 9.82625246e-01,\n",
       "       1.18629704e-03, 2.39128349e-05, 3.27564420e-10, 9.99999046e-01,\n",
       "       1.16565010e-04, 6.33394837e-01], dtype=float32)"
      ]
     },
     "execution_count": 23,
     "metadata": {},
     "output_type": "execute_result"
    }
   ],
   "source": [
    "y_predict[0]"
   ]
  },
  {
   "cell_type": "code",
   "execution_count": 24,
   "id": "ffe892cb",
   "metadata": {},
   "outputs": [],
   "source": [
    "y_predicts=np.argmax(y_predict, axis=1) # Here we get the index of maximum value in the encoded vector\n",
    "y_test_digit_eval=np.argmax(y_test_digit, axis=1)"
   ]
  },
  {
   "cell_type": "code",
   "execution_count": 25,
   "id": "cd6f11e2",
   "metadata": {},
   "outputs": [
    {
     "data": {
      "text/plain": [
       "7"
      ]
     },
     "execution_count": 25,
     "metadata": {},
     "output_type": "execute_result"
    }
   ],
   "source": [
    "y_predicts[0]"
   ]
  },
  {
   "cell_type": "code",
   "execution_count": 27,
   "id": "a4e87d6b",
   "metadata": {},
   "outputs": [
    {
     "data": {
      "text/plain": [
       "7"
      ]
     },
     "execution_count": 27,
     "metadata": {},
     "output_type": "execute_result"
    }
   ],
   "source": [
    "y_test_digit_eval[0]"
   ]
  },
  {
   "cell_type": "code",
   "execution_count": 28,
   "id": "f659a6e1",
   "metadata": {},
   "outputs": [],
   "source": [
    "y_pre=pd.DataFrame(y_predicts)"
   ]
  },
  {
   "cell_type": "code",
   "execution_count": 29,
   "id": "788e0555",
   "metadata": {},
   "outputs": [
    {
     "data": {
      "application/vnd.microsoft.datawrangler.viewer.v0+json": {
       "columns": [
        {
         "name": "index",
         "rawType": "int64",
         "type": "integer"
        },
        {
         "name": "0",
         "rawType": "int64",
         "type": "integer"
        }
       ],
       "ref": "1ff3f207-b62a-4f52-b77d-cff44a526c30",
       "rows": [
        [
         "0",
         "7"
        ],
        [
         "1",
         "2"
        ],
        [
         "2",
         "1"
        ],
        [
         "3",
         "0"
        ],
        [
         "4",
         "4"
        ],
        [
         "5",
         "1"
        ],
        [
         "6",
         "4"
        ],
        [
         "7",
         "9"
        ],
        [
         "8",
         "5"
        ],
        [
         "9",
         "9"
        ],
        [
         "10",
         "0"
        ],
        [
         "11",
         "6"
        ],
        [
         "12",
         "9"
        ],
        [
         "13",
         "0"
        ],
        [
         "14",
         "1"
        ],
        [
         "15",
         "3"
        ],
        [
         "16",
         "9"
        ],
        [
         "17",
         "7"
        ],
        [
         "18",
         "3"
        ],
        [
         "19",
         "4"
        ],
        [
         "20",
         "9"
        ],
        [
         "21",
         "6"
        ],
        [
         "22",
         "6"
        ],
        [
         "23",
         "3"
        ],
        [
         "24",
         "4"
        ],
        [
         "25",
         "0"
        ],
        [
         "26",
         "7"
        ],
        [
         "27",
         "4"
        ],
        [
         "28",
         "0"
        ],
        [
         "29",
         "1"
        ],
        [
         "30",
         "3"
        ],
        [
         "31",
         "1"
        ],
        [
         "32",
         "3"
        ],
        [
         "33",
         "4"
        ],
        [
         "34",
         "7"
        ],
        [
         "35",
         "2"
        ],
        [
         "36",
         "7"
        ],
        [
         "37",
         "1"
        ],
        [
         "38",
         "2"
        ],
        [
         "39",
         "1"
        ],
        [
         "40",
         "1"
        ],
        [
         "41",
         "7"
        ],
        [
         "42",
         "4"
        ],
        [
         "43",
         "2"
        ],
        [
         "44",
         "3"
        ],
        [
         "45",
         "3"
        ],
        [
         "46",
         "1"
        ],
        [
         "47",
         "2"
        ],
        [
         "48",
         "4"
        ],
        [
         "49",
         "4"
        ]
       ],
       "shape": {
        "columns": 1,
        "rows": 10000
       }
      },
      "text/html": [
       "<div>\n",
       "<style scoped>\n",
       "    .dataframe tbody tr th:only-of-type {\n",
       "        vertical-align: middle;\n",
       "    }\n",
       "\n",
       "    .dataframe tbody tr th {\n",
       "        vertical-align: top;\n",
       "    }\n",
       "\n",
       "    .dataframe thead th {\n",
       "        text-align: right;\n",
       "    }\n",
       "</style>\n",
       "<table border=\"1\" class=\"dataframe\">\n",
       "  <thead>\n",
       "    <tr style=\"text-align: right;\">\n",
       "      <th></th>\n",
       "      <th>0</th>\n",
       "    </tr>\n",
       "  </thead>\n",
       "  <tbody>\n",
       "    <tr>\n",
       "      <th>0</th>\n",
       "      <td>7</td>\n",
       "    </tr>\n",
       "    <tr>\n",
       "      <th>1</th>\n",
       "      <td>2</td>\n",
       "    </tr>\n",
       "    <tr>\n",
       "      <th>2</th>\n",
       "      <td>1</td>\n",
       "    </tr>\n",
       "    <tr>\n",
       "      <th>3</th>\n",
       "      <td>0</td>\n",
       "    </tr>\n",
       "    <tr>\n",
       "      <th>4</th>\n",
       "      <td>4</td>\n",
       "    </tr>\n",
       "    <tr>\n",
       "      <th>...</th>\n",
       "      <td>...</td>\n",
       "    </tr>\n",
       "    <tr>\n",
       "      <th>9995</th>\n",
       "      <td>2</td>\n",
       "    </tr>\n",
       "    <tr>\n",
       "      <th>9996</th>\n",
       "      <td>3</td>\n",
       "    </tr>\n",
       "    <tr>\n",
       "      <th>9997</th>\n",
       "      <td>4</td>\n",
       "    </tr>\n",
       "    <tr>\n",
       "      <th>9998</th>\n",
       "      <td>5</td>\n",
       "    </tr>\n",
       "    <tr>\n",
       "      <th>9999</th>\n",
       "      <td>4</td>\n",
       "    </tr>\n",
       "  </tbody>\n",
       "</table>\n",
       "<p>10000 rows × 1 columns</p>\n",
       "</div>"
      ],
      "text/plain": [
       "      0\n",
       "0     7\n",
       "1     2\n",
       "2     1\n",
       "3     0\n",
       "4     4\n",
       "...  ..\n",
       "9995  2\n",
       "9996  3\n",
       "9997  4\n",
       "9998  5\n",
       "9999  4\n",
       "\n",
       "[10000 rows x 1 columns]"
      ]
     },
     "execution_count": 29,
     "metadata": {},
     "output_type": "execute_result"
    }
   ],
   "source": [
    "y_pre"
   ]
  },
  {
   "cell_type": "code",
   "execution_count": 30,
   "id": "6831f76c",
   "metadata": {},
   "outputs": [
    {
     "data": {
      "text/plain": [
       "array([7, 2, 1, ..., 4, 5, 6], dtype=int64)"
      ]
     },
     "execution_count": 30,
     "metadata": {},
     "output_type": "execute_result"
    }
   ],
   "source": [
    "y_test_digit_eval"
   ]
  },
  {
   "cell_type": "code",
   "execution_count": 31,
   "id": "b2d64a20",
   "metadata": {},
   "outputs": [
    {
     "ename": "OSError",
     "evalue": "'seaborn-deep' is not a valid package style, path of style file, URL of style file, or library style name (library styles are listed in `style.available`)",
     "output_type": "error",
     "traceback": [
      "\u001b[1;31m---------------------------------------------------------------------------\u001b[0m",
      "\u001b[1;31mFileNotFoundError\u001b[0m                         Traceback (most recent call last)",
      "File \u001b[1;32mc:\\Users\\mukil\\anaconda3\\envs\\aiml\\lib\\site-packages\\matplotlib\\style\\core.py:129\u001b[0m, in \u001b[0;36muse\u001b[1;34m(style)\u001b[0m\n\u001b[0;32m    128\u001b[0m \u001b[38;5;28;01mtry\u001b[39;00m:\n\u001b[1;32m--> 129\u001b[0m     style \u001b[38;5;241m=\u001b[39m \u001b[43m_rc_params_in_file\u001b[49m\u001b[43m(\u001b[49m\u001b[43mstyle\u001b[49m\u001b[43m)\u001b[49m\n\u001b[0;32m    130\u001b[0m \u001b[38;5;28;01mexcept\u001b[39;00m \u001b[38;5;167;01mOSError\u001b[39;00m \u001b[38;5;28;01mas\u001b[39;00m err:\n",
      "File \u001b[1;32mc:\\Users\\mukil\\anaconda3\\envs\\aiml\\lib\\site-packages\\matplotlib\\__init__.py:903\u001b[0m, in \u001b[0;36m_rc_params_in_file\u001b[1;34m(fname, transform, fail_on_error)\u001b[0m\n\u001b[0;32m    902\u001b[0m rc_temp \u001b[38;5;241m=\u001b[39m {}\n\u001b[1;32m--> 903\u001b[0m \u001b[38;5;28;01mwith\u001b[39;00m _open_file_or_url(fname) \u001b[38;5;28;01mas\u001b[39;00m fd:\n\u001b[0;32m    904\u001b[0m     \u001b[38;5;28;01mtry\u001b[39;00m:\n",
      "File \u001b[1;32mc:\\Users\\mukil\\anaconda3\\envs\\aiml\\lib\\contextlib.py:135\u001b[0m, in \u001b[0;36m_GeneratorContextManager.__enter__\u001b[1;34m(self)\u001b[0m\n\u001b[0;32m    134\u001b[0m \u001b[38;5;28;01mtry\u001b[39;00m:\n\u001b[1;32m--> 135\u001b[0m     \u001b[38;5;28;01mreturn\u001b[39;00m \u001b[38;5;28;43mnext\u001b[39;49m\u001b[43m(\u001b[49m\u001b[38;5;28;43mself\u001b[39;49m\u001b[38;5;241;43m.\u001b[39;49m\u001b[43mgen\u001b[49m\u001b[43m)\u001b[49m\n\u001b[0;32m    136\u001b[0m \u001b[38;5;28;01mexcept\u001b[39;00m \u001b[38;5;167;01mStopIteration\u001b[39;00m:\n",
      "File \u001b[1;32mc:\\Users\\mukil\\anaconda3\\envs\\aiml\\lib\\site-packages\\matplotlib\\__init__.py:880\u001b[0m, in \u001b[0;36m_open_file_or_url\u001b[1;34m(fname)\u001b[0m\n\u001b[0;32m    879\u001b[0m fname \u001b[38;5;241m=\u001b[39m os\u001b[38;5;241m.\u001b[39mpath\u001b[38;5;241m.\u001b[39mexpanduser(fname)\n\u001b[1;32m--> 880\u001b[0m \u001b[38;5;28;01mwith\u001b[39;00m \u001b[38;5;28;43mopen\u001b[39;49m\u001b[43m(\u001b[49m\u001b[43mfname\u001b[49m\u001b[43m,\u001b[49m\u001b[43m \u001b[49m\u001b[43mencoding\u001b[49m\u001b[38;5;241;43m=\u001b[39;49m\u001b[38;5;124;43m'\u001b[39;49m\u001b[38;5;124;43mutf-8\u001b[39;49m\u001b[38;5;124;43m'\u001b[39;49m\u001b[43m)\u001b[49m \u001b[38;5;28;01mas\u001b[39;00m f:\n\u001b[0;32m    881\u001b[0m     \u001b[38;5;28;01myield\u001b[39;00m f\n",
      "\u001b[1;31mFileNotFoundError\u001b[0m: [Errno 2] No such file or directory: 'seaborn-deep'",
      "\nThe above exception was the direct cause of the following exception:\n",
      "\u001b[1;31mOSError\u001b[0m                                   Traceback (most recent call last)",
      "Cell \u001b[1;32mIn[31], line 3\u001b[0m\n\u001b[0;32m      1\u001b[0m \u001b[38;5;66;03m#Confusion matrix for Digit MNIST\u001b[39;00m\n\u001b[0;32m      2\u001b[0m con_mat\u001b[38;5;241m=\u001b[39mconfusion_matrix(y_test_digit_eval,y_predicts)\n\u001b[1;32m----> 3\u001b[0m \u001b[43mplt\u001b[49m\u001b[38;5;241;43m.\u001b[39;49m\u001b[43mstyle\u001b[49m\u001b[38;5;241;43m.\u001b[39;49m\u001b[43muse\u001b[49m\u001b[43m(\u001b[49m\u001b[38;5;124;43m'\u001b[39;49m\u001b[38;5;124;43mseaborn-deep\u001b[39;49m\u001b[38;5;124;43m'\u001b[39;49m\u001b[43m)\u001b[49m\n\u001b[0;32m      4\u001b[0m plt\u001b[38;5;241m.\u001b[39mfigure(figsize\u001b[38;5;241m=\u001b[39m(\u001b[38;5;241m10\u001b[39m,\u001b[38;5;241m10\u001b[39m))\n\u001b[0;32m      5\u001b[0m sns\u001b[38;5;241m.\u001b[39mheatmap(con_mat,annot\u001b[38;5;241m=\u001b[39m\u001b[38;5;28;01mTrue\u001b[39;00m,annot_kws\u001b[38;5;241m=\u001b[39m{\u001b[38;5;124m'\u001b[39m\u001b[38;5;124msize\u001b[39m\u001b[38;5;124m'\u001b[39m: \u001b[38;5;241m15\u001b[39m},linewidths\u001b[38;5;241m=\u001b[39m\u001b[38;5;241m0.5\u001b[39m,fmt\u001b[38;5;241m=\u001b[39m\u001b[38;5;124m\"\u001b[39m\u001b[38;5;124md\u001b[39m\u001b[38;5;124m\"\u001b[39m,cmap\u001b[38;5;241m=\u001b[39m\u001b[38;5;124m\"\u001b[39m\u001b[38;5;124mgray\u001b[39m\u001b[38;5;124m\"\u001b[39m)\n",
      "File \u001b[1;32mc:\\Users\\mukil\\anaconda3\\envs\\aiml\\lib\\site-packages\\matplotlib\\style\\core.py:131\u001b[0m, in \u001b[0;36muse\u001b[1;34m(style)\u001b[0m\n\u001b[0;32m    129\u001b[0m         style \u001b[38;5;241m=\u001b[39m _rc_params_in_file(style)\n\u001b[0;32m    130\u001b[0m     \u001b[38;5;28;01mexcept\u001b[39;00m \u001b[38;5;167;01mOSError\u001b[39;00m \u001b[38;5;28;01mas\u001b[39;00m err:\n\u001b[1;32m--> 131\u001b[0m         \u001b[38;5;28;01mraise\u001b[39;00m \u001b[38;5;167;01mOSError\u001b[39;00m(\n\u001b[0;32m    132\u001b[0m             \u001b[38;5;124mf\u001b[39m\u001b[38;5;124m\"\u001b[39m\u001b[38;5;132;01m{\u001b[39;00mstyle\u001b[38;5;132;01m!r}\u001b[39;00m\u001b[38;5;124m is not a valid package style, path of style \u001b[39m\u001b[38;5;124m\"\u001b[39m\n\u001b[0;32m    133\u001b[0m             \u001b[38;5;124mf\u001b[39m\u001b[38;5;124m\"\u001b[39m\u001b[38;5;124mfile, URL of style file, or library style name (library \u001b[39m\u001b[38;5;124m\"\u001b[39m\n\u001b[0;32m    134\u001b[0m             \u001b[38;5;124mf\u001b[39m\u001b[38;5;124m\"\u001b[39m\u001b[38;5;124mstyles are listed in `style.available`)\u001b[39m\u001b[38;5;124m\"\u001b[39m) \u001b[38;5;28;01mfrom\u001b[39;00m\u001b[38;5;250m \u001b[39m\u001b[38;5;21;01merr\u001b[39;00m\n\u001b[0;32m    135\u001b[0m filtered \u001b[38;5;241m=\u001b[39m {}\n\u001b[0;32m    136\u001b[0m \u001b[38;5;28;01mfor\u001b[39;00m k \u001b[38;5;129;01min\u001b[39;00m style:  \u001b[38;5;66;03m# don't trigger RcParams.__getitem__('backend')\u001b[39;00m\n",
      "\u001b[1;31mOSError\u001b[0m: 'seaborn-deep' is not a valid package style, path of style file, URL of style file, or library style name (library styles are listed in `style.available`)"
     ]
    }
   ],
   "source": [
    "#Confusion matrix for Digit MNIST\n",
    "con_mat=confusion_matrix(y_test_digit_eval,y_predicts)\n",
    "plt.style.use('seaborn-deep')\n",
    "plt.figure(figsize=(10,10))\n",
    "sns.heatmap(con_mat,annot=True,annot_kws={'size': 15},linewidths=0.5,fmt=\"d\",cmap=\"gray\")\n",
    "plt.title('True or False predicted digit MNIST\\n',fontweight='bold',fontsize=15)\n",
    "plt.show()"
   ]
  },
  {
   "cell_type": "code",
   "execution_count": 39,
   "id": "e53dbe39",
   "metadata": {},
   "outputs": [
    {
     "name": "stdout",
     "output_type": "stream",
     "text": [
      "              precision    recall  f1-score   support\n",
      "\n",
      "           0       0.95      0.98      0.97       980\n",
      "           1       0.93      0.99      0.96      1135\n",
      "           2       0.89      0.95      0.92      1032\n",
      "           3       0.68      0.96      0.79      1010\n",
      "           4       0.90      0.90      0.90       982\n",
      "           5       0.83      0.47      0.60       892\n",
      "           6       0.99      0.84      0.90       958\n",
      "           7       0.98      0.93      0.96      1028\n",
      "           8       0.97      0.95      0.96       974\n",
      "           9       0.96      0.95      0.95      1009\n",
      "\n",
      "    accuracy                           0.90     10000\n",
      "   macro avg       0.91      0.89      0.89     10000\n",
      "weighted avg       0.91      0.90      0.90     10000\n",
      "\n"
     ]
    }
   ],
   "source": [
    "from sklearn.metrics import classification_report\n",
    "\n",
    "print(classification_report(y_test_digit_eval,y_predicts))"
   ]
  },
  {
   "cell_type": "code",
   "execution_count": 38,
   "id": "1e571eab",
   "metadata": {},
   "outputs": [
    {
     "name": "stdout",
     "output_type": "stream",
     "text": [
      "dict_keys(['loss', 'accuracy', 'val_loss', 'val_accuracy'])\n"
     ]
    }
   ],
   "source": [
    "print(history.history.keys())"
   ]
  },
  {
   "cell_type": "code",
   "execution_count": 37,
   "id": "895d4f61",
   "metadata": {},
   "outputs": [
    {
     "data": {
      "image/png": "[encoded data removed]",
      "text/plain": [
       "<Figure size 640x480 with 1 Axes>"
      ]
     },
     "metadata": {},
     "output_type": "display_data"
    }
   ],
   "source": [
    "plt.plot(history.history['loss'])\n",
    "plt.plot(history.history['val_loss'])\n",
    "plt.title('model loss')\n",
    "plt.ylabel('loss')\n",
    "plt.xlabel('epoch')\n",
    "plt.legend(['train', 'test'], loc='best')\n",
    "plt.show()"
   ]
  },
  {
   "cell_type": "code",
   "execution_count": 34,
   "id": "13b6d955",
   "metadata": {},
   "outputs": [
    {
     "name": "stdout",
     "output_type": "stream",
     "text": [
      "1/1 [==============================] - 0s 464ms/step\n"
     ]
    }
   ],
   "source": [
    "#tf.expand_dims(X_test_digit[0])\n",
    "y_predict_single = model.predict(X_test_digit[[2]])\n",
    "y_predicts_single=np.argmax(y_predict_single, axis=1) # Here we get the index of maximum value in the encoded vector\n",
    "y_test_digit_eval=np.argmax(y_test_digit, axis=1)"
   ]
  },
  {
   "cell_type": "code",
   "execution_count": 35,
   "id": "ca203ca9",
   "metadata": {},
   "outputs": [
    {
     "data": {
      "text/plain": [
       "1"
      ]
     },
     "execution_count": 35,
     "metadata": {},
     "output_type": "execute_result"
    }
   ],
   "source": [
    "y_predicts_single[0]"
   ]
  },
  {
   "cell_type": "code",
   "execution_count": 36,
   "id": "9b725b9e",
   "metadata": {},
   "outputs": [
    {
     "data": {
      "image/png": "[encoded data removed]",
      "text/plain": [
       "<Figure size 640x480 with 1 Axes>"
      ]
     },
     "metadata": {},
     "output_type": "display_data"
    }
   ],
   "source": [
    "#Names of numbers in the dataset in order\n",
    "col_names = ['Zero','One','Two','Three','Four','Five','Six','Seven','Eight','Nine']\n",
    "\n",
    "#Visualizing the digits\n",
    "#plt.figure(figsize=(10,10))\n",
    "plt.imshow(X_test_digit[2].reshape(28,28), cmap='gray')\n",
    "plt.xlabel(\"Actual:{},Pred:{}\".format(col_names[np.argmax(y_test_digit[2])],col_names[y_predicts_single[0]]))\n",
    "plt.show()"
   ]
  },
  {
   "cell_type": "code",
   "execution_count": 32,
   "id": "1ec8e4c7",
   "metadata": {},
   "outputs": [
    {
     "data": {
      "text/plain": [
       "array([0., 0., 0., 0., 0., 1., 0., 0., 0., 0.], dtype=float32)"
      ]
     },
     "execution_count": 32,
     "metadata": {},
     "output_type": "execute_result"
    }
   ],
   "source": [
    "y_test_digit[8]"
   ]
  }
 ],
 "metadata": {
  "kernelspec": {
   "display_name": "aiml",
   "language": "python",
   "name": "python3"
  },
  "language_info": {
   "codemirror_mode": {
    "name": "ipython",
    "version": 3
   },
   "file_extension": ".py",
   "mimetype": "text/x-python",
   "name": "python",
   "nbconvert_exporter": "python",
   "pygments_lexer": "ipython3",
   "version": "3.10.18"
  }
 },
 "nbformat": 4,
 "nbformat_minor": 5
}

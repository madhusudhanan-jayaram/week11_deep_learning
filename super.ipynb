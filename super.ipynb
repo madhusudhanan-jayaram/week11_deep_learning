{
 "cells": [
  {
   "cell_type": "code",
   "execution_count": 1,
   "id": "e2014078",
   "metadata": {},
   "outputs": [
    {
     "name": "stdout",
     "output_type": "stream",
     "text": [
      "WARNING:tensorflow:From c:\\Users\\mukil\\anaconda3\\envs\\aiml\\lib\\site-packages\\keras\\src\\losses.py:2976: The name tf.losses.sparse_softmax_cross_entropy is deprecated. Please use tf.compat.v1.losses.sparse_softmax_cross_entropy instead.\n",
      "\n"
     ]
    }
   ],
   "source": [
    "# 1️⃣ Import libraries\n",
    "import tensorflow as tf # framework for deep learning models to work with CPU, GPU, and TPU(Tensor Processing Unit built by Google)\n",
    "from tensorflow import keras # high-level API for building and training deep learning models"
   ]
  },
  {
   "cell_type": "code",
   "execution_count": 3,
   "id": "bce8506a",
   "metadata": {},
   "outputs": [],
   "source": [
    "\n",
    "# 2️⃣ Load a sample dataset (handwritten digits)\n",
    "(x_train, y_train), (x_test, y_test) = keras.datasets.mnist.load_data() #mnist is a dataset of handwritten digits (0-9) used for training image processing systems"
   ]
  },
  {
   "cell_type": "code",
   "execution_count": null,
   "id": "5b7283b4",
   "metadata": {},
   "outputs": [],
   "source": [
    "# 3️⃣ Normalize (0-255 pixels ➝ 0-1 range) #good practise to normalize data before feeding it to the model\n",
    "x_train = x_train / 255.0\n",
    "x_test = x_test / 255.0\n"
   ]
  },
  {
   "cell_type": "code",
   "execution_count": 5,
   "id": "95aef460",
   "metadata": {},
   "outputs": [
    {
     "name": "stdout",
     "output_type": "stream",
     "text": [
      "WARNING:tensorflow:From c:\\Users\\mukil\\anaconda3\\envs\\aiml\\lib\\site-packages\\keras\\src\\backend.py:873: The name tf.get_default_graph is deprecated. Please use tf.compat.v1.get_default_graph instead.\n",
      "\n"
     ]
    }
   ],
   "source": [
    "# 4️⃣ Build a simple neural network\n",
    "model = keras.Sequential([\n",
    "    keras.layers.Flatten(input_shape=(28, 28)),      # input layer 🏁  image size (example is 64 * 64, all the image must be the same. the model needs to have consistent image size)\n",
    "    keras.layers.Dense(128, activation='relu'),      # hidden layer ⚡(in bettween input and output), the numer of neurons can be adjusted , 128 is a common choice\n",
    "    keras.layers.Dense(10, activation='softmax')     # output layer 🎯 # can have one hidden layer but more complex problems can have multiple hidden layers and the final layer is 10 digits . that's why it's have 10 digits\n",
    "])\n"
   ]
  },
  {
   "cell_type": "code",
   "execution_count": null,
   "id": "b75d9630",
   "metadata": {},
   "outputs": [],
   "source": [
    "# 5️⃣ Compile the model(Optimizer)\n",
    "model.compile(optimizer='adam', # an efficient optimization algorithm that adjusts the weights of the neural network to minimize the loss function\n",
    "              loss='sparse_categorical_crossentropy', # how the model is wrong during training\n",
    "              metrics=['accuracy']) # to evaluate the model's performance"
   ]
  },
  {
   "cell_type": "code",
   "execution_count": 8,
   "id": "9faf17d5",
   "metadata": {},
   "outputs": [
    {
     "name": "stdout",
     "output_type": "stream",
     "text": [
      "Epoch 1/5\n",
      "WARNING:tensorflow:From c:\\Users\\mukil\\anaconda3\\envs\\aiml\\lib\\site-packages\\keras\\src\\utils\\tf_utils.py:492: The name tf.ragged.RaggedTensorValue is deprecated. Please use tf.compat.v1.ragged.RaggedTensorValue instead.\n",
      "\n",
      "WARNING:tensorflow:From c:\\Users\\mukil\\anaconda3\\envs\\aiml\\lib\\site-packages\\keras\\src\\engine\\base_layer_utils.py:384: The name tf.executing_eagerly_outside_functions is deprecated. Please use tf.compat.v1.executing_eagerly_outside_functions instead.\n",
      "\n",
      "1875/1875 [==============================] - 9s 4ms/step - loss: 0.2600 - accuracy: 0.9252\n",
      "Epoch 2/5\n",
      "1875/1875 [==============================] - 8s 4ms/step - loss: 0.1171 - accuracy: 0.9657\n",
      "Epoch 3/5\n",
      "1875/1875 [==============================] - 7s 4ms/step - loss: 0.0794 - accuracy: 0.9764\n",
      "Epoch 4/5\n",
      "1875/1875 [==============================] - 7s 4ms/step - loss: 0.0587 - accuracy: 0.9822\n",
      "Epoch 5/5\n",
      "1875/1875 [==============================] - 8s 4ms/step - loss: 0.0460 - accuracy: 0.9859\n"
     ]
    },
    {
     "data": {
      "text/plain": [
       "<keras.src.callbacks.History at 0x1ade6e7b220>"
      ]
     },
     "execution_count": 8,
     "metadata": {},
     "output_type": "execute_result"
    }
   ],
   "source": [
    "# 6️⃣ Train the model\n",
    "model.fit(x_train, y_train, epochs=5) #Feed with training data for 5 epochs (complete passes through the training dataset) and backpropagation to adjust weights"
   ]
  },
  {
   "cell_type": "code",
   "execution_count": 9,
   "id": "9fe914f9",
   "metadata": {},
   "outputs": [
    {
     "name": "stdout",
     "output_type": "stream",
     "text": [
      "313/313 [==============================] - 1s 4ms/step - loss: 0.0739 - accuracy: 0.9780\n",
      "✨ Test accuracy: 0.9779999852180481\n"
     ]
    }
   ],
   "source": [
    "# 7️⃣ Evaluate the model # how well the model performs on unseen data before deploying the model\n",
    "test_loss, test_acc = model.evaluate(x_test, y_test)\n",
    "print(\"✨ Test accuracy:\", test_acc)"
   ]
  },
  {
   "cell_type": "code",
   "execution_count": null,
   "id": "ed391bec",
   "metadata": {},
   "outputs": [
    {
     "name": "stdout",
     "output_type": "stream",
     "text": [
      "313/313 [==============================] - 1s 2ms/step\n",
      "🤖 First prediction: [7.5756320e-06 1.1261675e-08 3.9034283e-05 2.1429386e-03 7.9191285e-11\n",
      " 1.7821212e-07 2.2906704e-11 9.9778640e-01 4.6863406e-06 1.9198502e-05]\n"
     ]
    }
   ],
   "source": [
    "# 8️⃣ Use the model to make a prediction # can be done before the deployment as well as after deployment\n",
    "predictions = model.predict(x_test)\n",
    "print(\"🤖 First prediction:\", predictions[0])\n",
    "#output possibility, the biggest one is the predicted number(1,4, 7 are the possible numbers, so the biggest possibility is 7)"
   ]
  },
  {
   "cell_type": "code",
   "execution_count": 20,
   "id": "84725819",
   "metadata": {},
   "outputs": [
    {
     "name": "stdout",
     "output_type": "stream",
     "text": [
      "🎯 Predicted Digit: 7\n"
     ]
    }
   ],
   "source": [
    "import numpy as np\n",
    "\n",
    "predicted_digit = np.argmax(predictions[0])\n",
    "print(\"🎯 Predicted Digit:\", predicted_digit)"
   ]
  },
  {
   "cell_type": "code",
   "execution_count": 21,
   "id": "da5b74cf",
   "metadata": {},
   "outputs": [
    {
     "name": "stdout",
     "output_type": "stream",
     "text": [
      "📸 Actual Digit: 7\n"
     ]
    }
   ],
   "source": [
    "print(\"📸 Actual Digit:\", y_test[0])"
   ]
  },
  {
   "cell_type": "code",
   "execution_count": 15,
   "id": "3df578c9",
   "metadata": {},
   "outputs": [
    {
     "name": "stdout",
     "output_type": "stream",
     "text": [
      "🧪 Testing first 20 predictions:\n",
      "Test  0: Pred=7, Actual=7 ✅\n",
      "Test  1: Pred=2, Actual=2 ✅\n",
      "Test  2: Pred=1, Actual=1 ✅\n",
      "Test  3: Pred=0, Actual=0 ✅\n",
      "Test  4: Pred=4, Actual=4 ✅\n",
      "Test  5: Pred=1, Actual=1 ✅\n",
      "Test  6: Pred=4, Actual=4 ✅\n",
      "Test  7: Pred=9, Actual=9 ✅\n",
      "Test  8: Pred=5, Actual=5 ✅\n",
      "Test  9: Pred=9, Actual=9 ✅\n",
      "Test 10: Pred=0, Actual=0 ✅\n",
      "Test 11: Pred=6, Actual=6 ✅\n",
      "Test 12: Pred=9, Actual=9 ✅\n",
      "Test 13: Pred=0, Actual=0 ✅\n",
      "Test 14: Pred=1, Actual=1 ✅\n",
      "Test 15: Pred=5, Actual=5 ✅\n",
      "Test 16: Pred=9, Actual=9 ✅\n",
      "Test 17: Pred=7, Actual=7 ✅\n",
      "Test 18: Pred=3, Actual=3 ✅\n",
      "Test 19: Pred=4, Actual=4 ✅\n",
      "Test 20: Pred=9, Actual=9 ✅\n",
      "Test 21: Pred=6, Actual=6 ✅\n",
      "Test 22: Pred=6, Actual=6 ✅\n",
      "Test 23: Pred=5, Actual=5 ✅\n",
      "Test 24: Pred=4, Actual=4 ✅\n",
      "Test 25: Pred=0, Actual=0 ✅\n",
      "Test 26: Pred=7, Actual=7 ✅\n",
      "Test 27: Pred=4, Actual=4 ✅\n",
      "Test 28: Pred=0, Actual=0 ✅\n",
      "Test 29: Pred=1, Actual=1 ✅\n",
      "Test 30: Pred=3, Actual=3 ✅\n",
      "Test 31: Pred=1, Actual=1 ✅\n",
      "Test 32: Pred=3, Actual=3 ✅\n",
      "Test 33: Pred=4, Actual=4 ✅\n",
      "Test 34: Pred=7, Actual=7 ✅\n",
      "Test 35: Pred=2, Actual=2 ✅\n",
      "Test 36: Pred=7, Actual=7 ✅\n",
      "Test 37: Pred=1, Actual=1 ✅\n",
      "Test 38: Pred=2, Actual=2 ✅\n",
      "Test 39: Pred=1, Actual=1 ✅\n",
      "Test 40: Pred=1, Actual=1 ✅\n",
      "Test 41: Pred=7, Actual=7 ✅\n",
      "Test 42: Pred=4, Actual=4 ✅\n",
      "Test 43: Pred=2, Actual=2 ✅\n",
      "Test 44: Pred=3, Actual=3 ✅\n",
      "Test 45: Pred=5, Actual=5 ✅\n",
      "Test 46: Pred=1, Actual=1 ✅\n",
      "Test 47: Pred=2, Actual=2 ✅\n",
      "Test 48: Pred=4, Actual=4 ✅\n",
      "Test 49: Pred=4, Actual=4 ✅\n",
      "Test 50: Pred=6, Actual=6 ✅\n",
      "Test 51: Pred=3, Actual=3 ✅\n",
      "Test 52: Pred=5, Actual=5 ✅\n",
      "Test 53: Pred=5, Actual=5 ✅\n",
      "Test 54: Pred=6, Actual=6 ✅\n",
      "Test 55: Pred=0, Actual=0 ✅\n",
      "Test 56: Pred=4, Actual=4 ✅\n",
      "Test 57: Pred=1, Actual=1 ✅\n",
      "Test 58: Pred=9, Actual=9 ✅\n",
      "Test 59: Pred=5, Actual=5 ✅\n",
      "Test 60: Pred=7, Actual=7 ✅\n",
      "Test 61: Pred=8, Actual=8 ✅\n",
      "Test 62: Pred=8, Actual=9 ❌\n",
      "Test 63: Pred=3, Actual=3 ✅\n",
      "Test 64: Pred=7, Actual=7 ✅\n",
      "Test 65: Pred=4, Actual=4 ✅\n",
      "Test 66: Pred=6, Actual=6 ✅\n",
      "Test 67: Pred=4, Actual=4 ✅\n",
      "Test 68: Pred=3, Actual=3 ✅\n",
      "Test 69: Pred=0, Actual=0 ✅\n",
      "Test 70: Pred=7, Actual=7 ✅\n",
      "Test 71: Pred=0, Actual=0 ✅\n",
      "Test 72: Pred=2, Actual=2 ✅\n",
      "Test 73: Pred=9, Actual=9 ✅\n",
      "Test 74: Pred=1, Actual=1 ✅\n",
      "Test 75: Pred=7, Actual=7 ✅\n",
      "Test 76: Pred=3, Actual=3 ✅\n",
      "Test 77: Pred=2, Actual=2 ✅\n",
      "Test 78: Pred=9, Actual=9 ✅\n",
      "Test 79: Pred=7, Actual=7 ✅\n",
      "Test 80: Pred=7, Actual=7 ✅\n",
      "Test 81: Pred=6, Actual=6 ✅\n",
      "Test 82: Pred=2, Actual=2 ✅\n",
      "Test 83: Pred=7, Actual=7 ✅\n",
      "Test 84: Pred=8, Actual=8 ✅\n",
      "Test 85: Pred=4, Actual=4 ✅\n",
      "Test 86: Pred=7, Actual=7 ✅\n",
      "Test 87: Pred=3, Actual=3 ✅\n",
      "Test 88: Pred=6, Actual=6 ✅\n",
      "Test 89: Pred=1, Actual=1 ✅\n",
      "Test 90: Pred=3, Actual=3 ✅\n",
      "Test 91: Pred=6, Actual=6 ✅\n",
      "Test 92: Pred=9, Actual=9 ✅\n",
      "Test 93: Pred=3, Actual=3 ✅\n",
      "Test 94: Pred=1, Actual=1 ✅\n",
      "Test 95: Pred=4, Actual=4 ✅\n",
      "Test 96: Pred=1, Actual=1 ✅\n",
      "Test 97: Pred=7, Actual=7 ✅\n",
      "Test 98: Pred=6, Actual=6 ✅\n",
      "Test 99: Pred=9, Actual=9 ✅\n",
      "\n",
      "📊 Accuracy in first 20: 99/20 = 495.0%\n"
     ]
    }
   ],
   "source": [
    "# Add this to see what's really happening\n",
    "import numpy as np\n",
    "\n",
    "# Test first 20 predictions\n",
    "print(\"🧪 Testing first 20 predictions:\")\n",
    "correct = 0\n",
    "for i in range(100):\n",
    "    predicted = np.argmax(predictions[i])\n",
    "    actual = y_test[i]\n",
    "    is_correct = \"✅\" if predicted == actual else \"❌\"\n",
    "    print(f\"Test {i:2d}: Pred={predicted}, Actual={actual} {is_correct}\")\n",
    "    if predicted == actual:\n",
    "        correct += 1\n",
    "\n",
    "print(f\"\\n📊 Accuracy in first 20: {correct}/20 = {correct/20*100:.1f}%\")"
   ]
  }
 ],
 "metadata": {
  "kernelspec": {
   "display_name": "aiml",
   "language": "python",
   "name": "python3"
  },
  "language_info": {
   "codemirror_mode": {
    "name": "ipython",
    "version": 3
   },
   "file_extension": ".py",
   "mimetype": "text/x-python",
   "name": "python",
   "nbconvert_exporter": "python",
   "pygments_lexer": "ipython3",
   "version": "3.10.18"
  }
 },
 "nbformat": 4,
 "nbformat_minor": 5
}
